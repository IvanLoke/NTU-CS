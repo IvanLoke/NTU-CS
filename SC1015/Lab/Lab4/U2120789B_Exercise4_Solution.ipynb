{
 "cells": [
  {
   "cell_type": "code",
   "execution_count": 1,
   "id": "138dab11",
   "metadata": {},
   "outputs": [],
   "source": [
    "import numpy as np\n",
    "import pandas as pd\n",
    "import seaborn as sb\n",
    "import matplotlib.pyplot as plt # we only need pyplot\n",
    "sb.set() # set the default Seaborn style for graphics"
   ]
  },
  {
   "cell_type": "markdown",
   "id": "f8d2ee35",
   "metadata": {},
   "source": [
    "## Problem 1a Training datasets and plotting regression line"
   ]
  },
  {
   "cell_type": "code",
   "execution_count": 2,
   "id": "e27f85aa",
   "metadata": {},
   "outputs": [
    {
     "data": {
      "text/html": [
       "<div>\n",
       "<style scoped>\n",
       "    .dataframe tbody tr th:only-of-type {\n",
       "        vertical-align: middle;\n",
       "    }\n",
       "\n",
       "    .dataframe tbody tr th {\n",
       "        vertical-align: top;\n",
       "    }\n",
       "\n",
       "    .dataframe thead th {\n",
       "        text-align: right;\n",
       "    }\n",
       "</style>\n",
       "<table border=\"1\" class=\"dataframe\">\n",
       "  <thead>\n",
       "    <tr style=\"text-align: right;\">\n",
       "      <th></th>\n",
       "      <th>Id</th>\n",
       "      <th>MSSubClass</th>\n",
       "      <th>MSZoning</th>\n",
       "      <th>LotFrontage</th>\n",
       "      <th>LotArea</th>\n",
       "      <th>Street</th>\n",
       "      <th>Alley</th>\n",
       "      <th>LotShape</th>\n",
       "      <th>LandContour</th>\n",
       "      <th>Utilities</th>\n",
       "      <th>...</th>\n",
       "      <th>PoolArea</th>\n",
       "      <th>PoolQC</th>\n",
       "      <th>Fence</th>\n",
       "      <th>MiscFeature</th>\n",
       "      <th>MiscVal</th>\n",
       "      <th>MoSold</th>\n",
       "      <th>YrSold</th>\n",
       "      <th>SaleType</th>\n",
       "      <th>SaleCondition</th>\n",
       "      <th>SalePrice</th>\n",
       "    </tr>\n",
       "  </thead>\n",
       "  <tbody>\n",
       "    <tr>\n",
       "      <th>0</th>\n",
       "      <td>1</td>\n",
       "      <td>60</td>\n",
       "      <td>RL</td>\n",
       "      <td>65.0</td>\n",
       "      <td>8450</td>\n",
       "      <td>Pave</td>\n",
       "      <td>NaN</td>\n",
       "      <td>Reg</td>\n",
       "      <td>Lvl</td>\n",
       "      <td>AllPub</td>\n",
       "      <td>...</td>\n",
       "      <td>0</td>\n",
       "      <td>NaN</td>\n",
       "      <td>NaN</td>\n",
       "      <td>NaN</td>\n",
       "      <td>0</td>\n",
       "      <td>2</td>\n",
       "      <td>2008</td>\n",
       "      <td>WD</td>\n",
       "      <td>Normal</td>\n",
       "      <td>208500</td>\n",
       "    </tr>\n",
       "    <tr>\n",
       "      <th>1</th>\n",
       "      <td>2</td>\n",
       "      <td>20</td>\n",
       "      <td>RL</td>\n",
       "      <td>80.0</td>\n",
       "      <td>9600</td>\n",
       "      <td>Pave</td>\n",
       "      <td>NaN</td>\n",
       "      <td>Reg</td>\n",
       "      <td>Lvl</td>\n",
       "      <td>AllPub</td>\n",
       "      <td>...</td>\n",
       "      <td>0</td>\n",
       "      <td>NaN</td>\n",
       "      <td>NaN</td>\n",
       "      <td>NaN</td>\n",
       "      <td>0</td>\n",
       "      <td>5</td>\n",
       "      <td>2007</td>\n",
       "      <td>WD</td>\n",
       "      <td>Normal</td>\n",
       "      <td>181500</td>\n",
       "    </tr>\n",
       "    <tr>\n",
       "      <th>2</th>\n",
       "      <td>3</td>\n",
       "      <td>60</td>\n",
       "      <td>RL</td>\n",
       "      <td>68.0</td>\n",
       "      <td>11250</td>\n",
       "      <td>Pave</td>\n",
       "      <td>NaN</td>\n",
       "      <td>IR1</td>\n",
       "      <td>Lvl</td>\n",
       "      <td>AllPub</td>\n",
       "      <td>...</td>\n",
       "      <td>0</td>\n",
       "      <td>NaN</td>\n",
       "      <td>NaN</td>\n",
       "      <td>NaN</td>\n",
       "      <td>0</td>\n",
       "      <td>9</td>\n",
       "      <td>2008</td>\n",
       "      <td>WD</td>\n",
       "      <td>Normal</td>\n",
       "      <td>223500</td>\n",
       "    </tr>\n",
       "    <tr>\n",
       "      <th>3</th>\n",
       "      <td>4</td>\n",
       "      <td>70</td>\n",
       "      <td>RL</td>\n",
       "      <td>60.0</td>\n",
       "      <td>9550</td>\n",
       "      <td>Pave</td>\n",
       "      <td>NaN</td>\n",
       "      <td>IR1</td>\n",
       "      <td>Lvl</td>\n",
       "      <td>AllPub</td>\n",
       "      <td>...</td>\n",
       "      <td>0</td>\n",
       "      <td>NaN</td>\n",
       "      <td>NaN</td>\n",
       "      <td>NaN</td>\n",
       "      <td>0</td>\n",
       "      <td>2</td>\n",
       "      <td>2006</td>\n",
       "      <td>WD</td>\n",
       "      <td>Abnorml</td>\n",
       "      <td>140000</td>\n",
       "    </tr>\n",
       "    <tr>\n",
       "      <th>4</th>\n",
       "      <td>5</td>\n",
       "      <td>60</td>\n",
       "      <td>RL</td>\n",
       "      <td>84.0</td>\n",
       "      <td>14260</td>\n",
       "      <td>Pave</td>\n",
       "      <td>NaN</td>\n",
       "      <td>IR1</td>\n",
       "      <td>Lvl</td>\n",
       "      <td>AllPub</td>\n",
       "      <td>...</td>\n",
       "      <td>0</td>\n",
       "      <td>NaN</td>\n",
       "      <td>NaN</td>\n",
       "      <td>NaN</td>\n",
       "      <td>0</td>\n",
       "      <td>12</td>\n",
       "      <td>2008</td>\n",
       "      <td>WD</td>\n",
       "      <td>Normal</td>\n",
       "      <td>250000</td>\n",
       "    </tr>\n",
       "    <tr>\n",
       "      <th>...</th>\n",
       "      <td>...</td>\n",
       "      <td>...</td>\n",
       "      <td>...</td>\n",
       "      <td>...</td>\n",
       "      <td>...</td>\n",
       "      <td>...</td>\n",
       "      <td>...</td>\n",
       "      <td>...</td>\n",
       "      <td>...</td>\n",
       "      <td>...</td>\n",
       "      <td>...</td>\n",
       "      <td>...</td>\n",
       "      <td>...</td>\n",
       "      <td>...</td>\n",
       "      <td>...</td>\n",
       "      <td>...</td>\n",
       "      <td>...</td>\n",
       "      <td>...</td>\n",
       "      <td>...</td>\n",
       "      <td>...</td>\n",
       "      <td>...</td>\n",
       "    </tr>\n",
       "    <tr>\n",
       "      <th>1455</th>\n",
       "      <td>1456</td>\n",
       "      <td>60</td>\n",
       "      <td>RL</td>\n",
       "      <td>62.0</td>\n",
       "      <td>7917</td>\n",
       "      <td>Pave</td>\n",
       "      <td>NaN</td>\n",
       "      <td>Reg</td>\n",
       "      <td>Lvl</td>\n",
       "      <td>AllPub</td>\n",
       "      <td>...</td>\n",
       "      <td>0</td>\n",
       "      <td>NaN</td>\n",
       "      <td>NaN</td>\n",
       "      <td>NaN</td>\n",
       "      <td>0</td>\n",
       "      <td>8</td>\n",
       "      <td>2007</td>\n",
       "      <td>WD</td>\n",
       "      <td>Normal</td>\n",
       "      <td>175000</td>\n",
       "    </tr>\n",
       "    <tr>\n",
       "      <th>1456</th>\n",
       "      <td>1457</td>\n",
       "      <td>20</td>\n",
       "      <td>RL</td>\n",
       "      <td>85.0</td>\n",
       "      <td>13175</td>\n",
       "      <td>Pave</td>\n",
       "      <td>NaN</td>\n",
       "      <td>Reg</td>\n",
       "      <td>Lvl</td>\n",
       "      <td>AllPub</td>\n",
       "      <td>...</td>\n",
       "      <td>0</td>\n",
       "      <td>NaN</td>\n",
       "      <td>MnPrv</td>\n",
       "      <td>NaN</td>\n",
       "      <td>0</td>\n",
       "      <td>2</td>\n",
       "      <td>2010</td>\n",
       "      <td>WD</td>\n",
       "      <td>Normal</td>\n",
       "      <td>210000</td>\n",
       "    </tr>\n",
       "    <tr>\n",
       "      <th>1457</th>\n",
       "      <td>1458</td>\n",
       "      <td>70</td>\n",
       "      <td>RL</td>\n",
       "      <td>66.0</td>\n",
       "      <td>9042</td>\n",
       "      <td>Pave</td>\n",
       "      <td>NaN</td>\n",
       "      <td>Reg</td>\n",
       "      <td>Lvl</td>\n",
       "      <td>AllPub</td>\n",
       "      <td>...</td>\n",
       "      <td>0</td>\n",
       "      <td>NaN</td>\n",
       "      <td>GdPrv</td>\n",
       "      <td>Shed</td>\n",
       "      <td>2500</td>\n",
       "      <td>5</td>\n",
       "      <td>2010</td>\n",
       "      <td>WD</td>\n",
       "      <td>Normal</td>\n",
       "      <td>266500</td>\n",
       "    </tr>\n",
       "    <tr>\n",
       "      <th>1458</th>\n",
       "      <td>1459</td>\n",
       "      <td>20</td>\n",
       "      <td>RL</td>\n",
       "      <td>68.0</td>\n",
       "      <td>9717</td>\n",
       "      <td>Pave</td>\n",
       "      <td>NaN</td>\n",
       "      <td>Reg</td>\n",
       "      <td>Lvl</td>\n",
       "      <td>AllPub</td>\n",
       "      <td>...</td>\n",
       "      <td>0</td>\n",
       "      <td>NaN</td>\n",
       "      <td>NaN</td>\n",
       "      <td>NaN</td>\n",
       "      <td>0</td>\n",
       "      <td>4</td>\n",
       "      <td>2010</td>\n",
       "      <td>WD</td>\n",
       "      <td>Normal</td>\n",
       "      <td>142125</td>\n",
       "    </tr>\n",
       "    <tr>\n",
       "      <th>1459</th>\n",
       "      <td>1460</td>\n",
       "      <td>20</td>\n",
       "      <td>RL</td>\n",
       "      <td>75.0</td>\n",
       "      <td>9937</td>\n",
       "      <td>Pave</td>\n",
       "      <td>NaN</td>\n",
       "      <td>Reg</td>\n",
       "      <td>Lvl</td>\n",
       "      <td>AllPub</td>\n",
       "      <td>...</td>\n",
       "      <td>0</td>\n",
       "      <td>NaN</td>\n",
       "      <td>NaN</td>\n",
       "      <td>NaN</td>\n",
       "      <td>0</td>\n",
       "      <td>6</td>\n",
       "      <td>2008</td>\n",
       "      <td>WD</td>\n",
       "      <td>Normal</td>\n",
       "      <td>147500</td>\n",
       "    </tr>\n",
       "  </tbody>\n",
       "</table>\n",
       "<p>1460 rows × 81 columns</p>\n",
       "</div>"
      ],
      "text/plain": [
       "        Id  MSSubClass MSZoning  LotFrontage  LotArea Street Alley LotShape  \\\n",
       "0        1          60       RL         65.0     8450   Pave   NaN      Reg   \n",
       "1        2          20       RL         80.0     9600   Pave   NaN      Reg   \n",
       "2        3          60       RL         68.0    11250   Pave   NaN      IR1   \n",
       "3        4          70       RL         60.0     9550   Pave   NaN      IR1   \n",
       "4        5          60       RL         84.0    14260   Pave   NaN      IR1   \n",
       "...    ...         ...      ...          ...      ...    ...   ...      ...   \n",
       "1455  1456          60       RL         62.0     7917   Pave   NaN      Reg   \n",
       "1456  1457          20       RL         85.0    13175   Pave   NaN      Reg   \n",
       "1457  1458          70       RL         66.0     9042   Pave   NaN      Reg   \n",
       "1458  1459          20       RL         68.0     9717   Pave   NaN      Reg   \n",
       "1459  1460          20       RL         75.0     9937   Pave   NaN      Reg   \n",
       "\n",
       "     LandContour Utilities  ... PoolArea PoolQC  Fence MiscFeature MiscVal  \\\n",
       "0            Lvl    AllPub  ...        0    NaN    NaN         NaN       0   \n",
       "1            Lvl    AllPub  ...        0    NaN    NaN         NaN       0   \n",
       "2            Lvl    AllPub  ...        0    NaN    NaN         NaN       0   \n",
       "3            Lvl    AllPub  ...        0    NaN    NaN         NaN       0   \n",
       "4            Lvl    AllPub  ...        0    NaN    NaN         NaN       0   \n",
       "...          ...       ...  ...      ...    ...    ...         ...     ...   \n",
       "1455         Lvl    AllPub  ...        0    NaN    NaN         NaN       0   \n",
       "1456         Lvl    AllPub  ...        0    NaN  MnPrv         NaN       0   \n",
       "1457         Lvl    AllPub  ...        0    NaN  GdPrv        Shed    2500   \n",
       "1458         Lvl    AllPub  ...        0    NaN    NaN         NaN       0   \n",
       "1459         Lvl    AllPub  ...        0    NaN    NaN         NaN       0   \n",
       "\n",
       "     MoSold YrSold  SaleType  SaleCondition  SalePrice  \n",
       "0         2   2008        WD         Normal     208500  \n",
       "1         5   2007        WD         Normal     181500  \n",
       "2         9   2008        WD         Normal     223500  \n",
       "3         2   2006        WD        Abnorml     140000  \n",
       "4        12   2008        WD         Normal     250000  \n",
       "...     ...    ...       ...            ...        ...  \n",
       "1455      8   2007        WD         Normal     175000  \n",
       "1456      2   2010        WD         Normal     210000  \n",
       "1457      5   2010        WD         Normal     266500  \n",
       "1458      4   2010        WD         Normal     142125  \n",
       "1459      6   2008        WD         Normal     147500  \n",
       "\n",
       "[1460 rows x 81 columns]"
      ]
     },
     "execution_count": 2,
     "metadata": {},
     "output_type": "execute_result"
    }
   ],
   "source": [
    "df = pd.read_csv(r\"D:\\Work\\Y2 work\\SC1015\\Lab\\Lab4\\train .csv\")\n",
    "df"
   ]
  },
  {
   "cell_type": "code",
   "execution_count": 3,
   "id": "2204fc02",
   "metadata": {},
   "outputs": [],
   "source": [
    "GrLivArea = pd.DataFrame(df['GrLivArea'])\n",
    "SalePrice = pd.DataFrame(df['SalePrice'])\n"
   ]
  },
  {
   "cell_type": "code",
   "execution_count": 4,
   "id": "779c4dd9",
   "metadata": {},
   "outputs": [
    {
     "name": "stdout",
     "output_type": "stream",
     "text": [
      "Shape of GrLivArea_train is: 1168\n",
      "Shape of GrLivArea_test is: 292\n",
      "Shape of SalePrice_train is: 1168\n",
      "Shape of SalePrice_test is: 292\n"
     ]
    }
   ],
   "source": [
    "from sklearn.linear_model import LinearRegression\n",
    "from sklearn.model_selection import train_test_split\n",
    "from sklearn.metrics import mean_squared_error\n",
    "\n",
    "GrLivArea_train,GrLivArea_test,SalePrice_train,SalePrice_test = train_test_split(GrLivArea, SalePrice, test_size = 0.2)\n",
    "print(f\"Shape of GrLivArea_train is: {GrLivArea_train.shape[0]}\")\n",
    "print(f\"Shape of GrLivArea_test is: {GrLivArea_test.shape[0]}\")\n",
    "print(f\"Shape of SalePrice_train is: {SalePrice_train.shape[0]}\")\n",
    "print(f\"Shape of SalePrice_test is: {SalePrice_test.shape[0]}\")"
   ]
  },
  {
   "cell_type": "code",
   "execution_count": 5,
   "id": "40444606",
   "metadata": {},
   "outputs": [],
   "source": [
    "# Import LinearRegression model from Scikit-Learn\n",
    "from sklearn.linear_model import LinearRegression\n",
    "\n",
    "# Create a Linear Regression object\n",
    "linreg = LinearRegression()"
   ]
  },
  {
   "cell_type": "code",
   "execution_count": 6,
   "id": "8d45cab4",
   "metadata": {},
   "outputs": [
    {
     "data": {
      "text/plain": [
       "LinearRegression()"
      ]
     },
     "execution_count": 6,
     "metadata": {},
     "output_type": "execute_result"
    }
   ],
   "source": [
    "# Train the Linear Regression model\n",
    "linreg.fit(GrLivArea_train, SalePrice_train)"
   ]
  },
  {
   "cell_type": "code",
   "execution_count": 7,
   "id": "114a7b46",
   "metadata": {},
   "outputs": [
    {
     "name": "stdout",
     "output_type": "stream",
     "text": [
      "Intercept \t: b =  [20588.40372858]\n",
      "Coefficients \t: a =  [[105.16790463]]\n"
     ]
    }
   ],
   "source": [
    "print('Intercept \\t: b = ', linreg.intercept_)\n",
    "print('Coefficients \\t: a = ', linreg.coef_)"
   ]
  },
  {
   "cell_type": "code",
   "execution_count": 8,
   "id": "5a726ee9",
   "metadata": {},
   "outputs": [
    {
     "data": {
      "image/png": "[encoded data removed]",
      "text/plain": [
       "<Figure size 1152x576 with 1 Axes>"
      ]
     },
     "metadata": {},
     "output_type": "display_data"
    }
   ],
   "source": [
    "SalePrice_train_pred = linreg.predict(GrLivArea_train)\n",
    "SalePrice_test_pred = linreg.predict(GrLivArea_test)\n",
    "# Plot the Linear Regression line\n",
    "f = plt.figure(figsize=(16, 8))\n",
    "plt.scatter(GrLivArea_train, SalePrice_train)\n",
    "plt.scatter(GrLivArea_train, SalePrice_train_pred, color = \"r\")\n",
    "plt.xlabel(\"GrLivArea\")\n",
    "plt.ylabel(\"SalePrice\")\n",
    "plt.title(\"Train data regression line\")\n",
    "plt.show()"
   ]
  },
  {
   "cell_type": "markdown",
   "id": "967e98de",
   "metadata": {},
   "source": [
    "## Coefficents of the model is 105 and intercept is 20588\n"
   ]
  },
  {
   "cell_type": "markdown",
   "id": "0204b3c2",
   "metadata": {},
   "source": [
    "## Problem 1b Goodness of fit and prediction accuracy"
   ]
  },
  {
   "cell_type": "code",
   "execution_count": 9,
   "id": "c0865c00",
   "metadata": {},
   "outputs": [
    {
     "name": "stdout",
     "output_type": "stream",
     "text": [
      "Goodness of fit and prediction accuracy for Train Set\n",
      "Explained Variance (R^2) \t: 0.4990002364495725\n",
      "Mean Squared Error (MSE) \t: 3179420036.8068705\n",
      "Root Mean Squared Error (RMSE) \t: 56386.34619131542\n"
     ]
    }
   ],
   "source": [
    "# Explained Variance (R^2)\n",
    "\n",
    "print(\"Goodness of fit and prediction accuracy for Train Set\")\n",
    "print(\"Explained Variance (R^2) \\t:\", linreg.score(GrLivArea_train, SalePrice_train))\n",
    "\n",
    "# Mean Squared Error (MSE)\n",
    "def mean_sq_err(actual, predicted):\n",
    "    '''Returns the Mean Squared Error of actual and predicted values'''\n",
    "    return np.mean(np.square(np.array(actual) - np.array(predicted)))\n",
    "\n",
    "\n",
    "mse = mean_sq_err(SalePrice_train, SalePrice_train_pred)\n",
    "print(\"Mean Squared Error (MSE) \\t:\", mse)\n",
    "print(\"Root Mean Squared Error (RMSE) \\t:\", np.sqrt(mse))"
   ]
  },
  {
   "cell_type": "code",
   "execution_count": 10,
   "id": "0fff2cc4",
   "metadata": {},
   "outputs": [
    {
     "name": "stdout",
     "output_type": "stream",
     "text": [
      "Goodness of fit and prediction accuracy for Test Set\n",
      "Explained Variance (R^2) \t: 0.5102445989935376\n",
      "Mean Squared Error (MSE) \t: 2991406236.0730968\n",
      "Root Mean Squared Error (RMSE) \t: 54693.749515580814\n"
     ]
    }
   ],
   "source": [
    "# Explained Variance (R^2)\n",
    "print(\"Goodness of fit and prediction accuracy for Test Set\")\n",
    "print(\"Explained Variance (R^2) \\t:\", linreg.score(GrLivArea_test, SalePrice_test))\n",
    "\n",
    "# Mean Squared Error (MSE)\n",
    "def mean_sq_err(actual, predicted):\n",
    "    '''Returns the Mean Squared Error of actual and predicted values'''\n",
    "    return np.mean(np.square(np.array(actual) - np.array(predicted)))\n",
    "\n",
    "mse = mean_sq_err(SalePrice_test, SalePrice_test_pred)\n",
    "mse1= mean_squared_error(SalePrice_test, SalePrice_test_pred)\n",
    "print(\"Mean Squared Error (MSE) \\t:\", mse1)\n",
    "print(\"Root Mean Squared Error (RMSE) \\t:\", np.sqrt(mse))"
   ]
  },
  {
   "cell_type": "code",
   "execution_count": 11,
   "id": "c05dacab",
   "metadata": {},
   "outputs": [
    {
     "data": {
      "image/png": "[encoded data removed]",
      "text/plain": [
       "<Figure size 1152x576 with 1 Axes>"
      ]
     },
     "metadata": {},
     "output_type": "display_data"
    }
   ],
   "source": [
    "# Predict Total values corresponding to HP Test\n",
    "SalePrice_test_pred = linreg.predict(GrLivArea_test)\n",
    "\n",
    "# Plot the Predictions\n",
    "f = plt.figure(figsize=(16, 8))\n",
    "plt.scatter(GrLivArea_test, SalePrice_test, color = \"green\")\n",
    "plt.scatter(GrLivArea_test, SalePrice_test_pred, color = \"red\")\n",
    "plt.xlabel(\"GrLivArea\")\n",
    "plt.ylabel(\"SalePrice\")\n",
    "plt.title(\"Test data regression line\")\n",
    "plt.show()"
   ]
  },
  {
   "cell_type": "markdown",
   "id": "5dfa11e8",
   "metadata": {},
   "source": [
    "## Problem 2 Predicting SalePrice using Other Variables"
   ]
  },
  {
   "cell_type": "code",
   "execution_count": 12,
   "id": "b86cf202",
   "metadata": {},
   "outputs": [],
   "source": [
    "from sklearn.linear_model import LinearRegression\n",
    "from sklearn.model_selection import train_test_split\n",
    "from sklearn.metrics import mean_squared_error"
   ]
  },
  {
   "cell_type": "code",
   "execution_count": 13,
   "id": "531b04f9",
   "metadata": {},
   "outputs": [],
   "source": [
    "def salePriceRegression(variable,dframe):\n",
    "    X= pd.DataFrame(dframe[variable])   \n",
    "    Y = pd.DataFrame(dframe['SalePrice']) \n",
    "    X_train, X_test, Y_train, Y_test = train_test_split(X, Y, test_size = 0.2)\n",
    "    linreg = LinearRegression()\n",
    "    linreg.fit(X_train, Y_train)\n",
    "    print('Intercept of Regression \\t: b = ', linreg.intercept_)\n",
    "    print('Coefficients of Regression \\t: a = ', linreg.coef_)\n",
    "    print()\n",
    "    Y_train_pred = linreg.predict(X_train)\n",
    "    Y_test_pred = linreg.predict(X_test)\n",
    "    \n",
    "    # Check the Goodness of Fit (on Train Data)\n",
    "    print(\"Goodness of Fit of Model \\tTrain Dataset\")\n",
    "    print(\"Explained Variance (R^2) \\t:\", linreg.score(X_train, Y_train))\n",
    "    print(\"Mean Squared Error (MSE) \\t:\", mean_squared_error(Y_train, Y_train_pred))\n",
    "    print(\"Root Mean Squared Error (RMSE) \\t:\", np.sqrt(mean_squared_error(Y_train, Y_train_pred)))\n",
    "    print()\n",
    "    \n",
    "    # Check the Goodness of Fit (on Test Data)\n",
    "    print(\"Goodness of Fit of Model \\tTest Dataset\")\n",
    "    print(\"Explained Variance (R^2) \\t:\", linreg.score(X_test, Y_test))\n",
    "    print(\"Mean Squared Error (MSE) \\t:\", mean_squared_error(Y_test, Y_test_pred))\n",
    "    print(\"Root Mean Squared Error (RMSE) \\t:\", np.sqrt(mean_squared_error(Y_test, Y_test_pred)))\n",
    "    print()\n"
   ]
  },
  {
   "cell_type": "code",
   "execution_count": 14,
   "id": "58dbdd49",
   "metadata": {},
   "outputs": [
    {
     "name": "stdout",
     "output_type": "stream",
     "text": [
      "Regression for TotalBsmtSF:\n",
      "Intercept of Regression \t: b =  [66871.74494346]\n",
      "Coefficients of Regression \t: a =  [[109.17452467]]\n",
      "\n",
      "Goodness of Fit of Model \tTrain Dataset\n",
      "Explained Variance (R^2) \t: 0.3796158580151745\n",
      "Mean Squared Error (MSE) \t: 3949583349.2397695\n",
      "Root Mean Squared Error (RMSE) \t: 62845.710666995954\n",
      "\n",
      "Goodness of Fit of Model \tTest Dataset\n",
      "Explained Variance (R^2) \t: 0.3514481541728536\n",
      "Mean Squared Error (MSE) \t: 3877005986.0025625\n",
      "Root Mean Squared Error (RMSE) \t: 62265.608372540315\n",
      "\n"
     ]
    }
   ],
   "source": [
    "print(\"Regression for TotalBsmtSF:\")\n",
    "salePriceRegression(\"TotalBsmtSF\",df)"
   ]
  },
  {
   "cell_type": "code",
   "execution_count": 15,
   "id": "86c1a30c",
   "metadata": {},
   "outputs": [
    {
     "name": "stdout",
     "output_type": "stream",
     "text": [
      "Regression for GarageArea\n",
      "Intercept of Regression \t: b =  [72920.47454667]\n",
      "Coefficients of Regression \t: a =  [[227.86939587]]\n",
      "\n",
      "Goodness of Fit of Model \tTrain Dataset\n",
      "Explained Variance (R^2) \t: 0.3811336433150604\n",
      "Mean Squared Error (MSE) \t: 3852133661.542477\n",
      "Root Mean Squared Error (RMSE) \t: 62065.55938314322\n",
      "\n",
      "Goodness of Fit of Model \tTest Dataset\n",
      "Explained Variance (R^2) \t: 0.41639809153590235\n",
      "Mean Squared Error (MSE) \t: 3872718610.761339\n",
      "Root Mean Squared Error (RMSE) \t: 62231.17073269102\n",
      "\n"
     ]
    }
   ],
   "source": [
    "print(\"Regression for GarageArea\")\n",
    "salePriceRegression(\"GarageArea\",df)"
   ]
  },
  {
   "cell_type": "markdown",
   "id": "c7d25f7c",
   "metadata": {},
   "source": [
    "## I believe that the MSE is too large to be accurate as it is 4 degrees of magnitude higher than SalePrice. Additonally, MSE depends on the scale of values of the response variable and is recorded in absolute, making it hard to compare at first glance without looking at SalePrice concurrently. However, R^2 is bounded from 0 to 1 and captures the fraction of variance of actual values captured by the regression model. R^2 thus tells us how well a model can predict the value of the response variable in percentage terms which is the same for any model we use, making it easy to compare and contrast"
   ]
  },
  {
   "cell_type": "markdown",
   "id": "0f0a4c0b",
   "metadata": {},
   "source": [
    "### The model for predicting SalePrice based on GrLivArea is the best. Its test set has a better goodness of fit for model as its explained variance is the highest at 0.501 compared to TotalBsmtSF's of 0.351 and GarageArea's 0.416. Additonally, its prediction accuracy for the test set is highest as well. Its mean squared error is lowest at 2991406236 compared to TotalBsmtSF's 3877005986 and GarageArea's 3872718610."
   ]
  },
  {
   "cell_type": "markdown",
   "id": "94338bee",
   "metadata": {},
   "source": [
    "## Problem 3a Cleaning the dataset"
   ]
  },
  {
   "cell_type": "code",
   "execution_count": 16,
   "id": "79aa6061",
   "metadata": {},
   "outputs": [],
   "source": [
    "GrLivAreaQ1 = GrLivArea.quantile(0.25)\n",
    "GrLivAreaQ3 = GrLivArea.quantile(0.75)\n",
    "GrLivAreaIQR= GrLivAreaQ3-GrLivAreaQ1\n",
    "SalePriceQ1 = SalePrice.quantile(0.25)\n",
    "SalePriceQ3 = SalePrice.quantile(0.75)\n",
    "SalePriceIQR= SalePriceQ3-SalePriceQ1\n"
   ]
  },
  {
   "cell_type": "code",
   "execution_count": 17,
   "id": "2059f692",
   "metadata": {},
   "outputs": [],
   "source": [
    "outliers = df.loc[((df[\"GrLivArea\"] < int(GrLivAreaQ1)-1.5*int(GrLivAreaIQR)) | (df[\"GrLivArea\"] > int(GrLivAreaQ3)+1.5*int(GrLivAreaIQR)) | (df[\"SalePrice\"] < int(SalePriceQ1)-1.5*int(SalePriceIQR)) | (df[\"SalePrice\"] > int(SalePriceQ3)+1.5*int(SalePriceIQR)))]\n",
    "outliers = outliers.loc[:,[\"GrLivArea\",\"SalePrice\"]]"
   ]
  },
  {
   "cell_type": "code",
   "execution_count": 18,
   "id": "a6709df9",
   "metadata": {},
   "outputs": [
    {
     "name": "stdout",
     "output_type": "stream",
     "text": [
      "Indxes of outliers: [11, 53, 58, 112, 118, 151, 161, 178, 185, 197, 224, 231, 278, 304, 309, 313, 320, 321, 324, 336, 349, 378, 389, 440, 473, 477, 481, 496, 515, 523, 527, 583, 585, 591, 608, 635, 642, 644, 654, 661, 664, 678, 688, 691, 702, 718, 769, 774, 798, 803, 825, 877, 898, 961, 987, 990, 1024, 1031, 1046, 1142, 1169, 1173, 1175, 1181, 1182, 1228, 1243, 1267, 1268, 1298, 1312, 1328, 1353, 1373, 1386, 1388, 1437]\n",
      "Length of outliers: 77\n"
     ]
    }
   ],
   "source": [
    "outliersindex = outliers.index.tolist()\n",
    "print(f\"Indxes of outliers: {outliersindex}\")\n",
    "print(f\"Length of outliers: {len(outliersindex)}\")"
   ]
  },
  {
   "cell_type": "code",
   "execution_count": 19,
   "id": "7809c676",
   "metadata": {},
   "outputs": [
    {
     "data": {
      "text/html": [
       "<div>\n",
       "<style scoped>\n",
       "    .dataframe tbody tr th:only-of-type {\n",
       "        vertical-align: middle;\n",
       "    }\n",
       "\n",
       "    .dataframe tbody tr th {\n",
       "        vertical-align: top;\n",
       "    }\n",
       "\n",
       "    .dataframe thead th {\n",
       "        text-align: right;\n",
       "    }\n",
       "</style>\n",
       "<table border=\"1\" class=\"dataframe\">\n",
       "  <thead>\n",
       "    <tr style=\"text-align: right;\">\n",
       "      <th></th>\n",
       "      <th>GrLivArea</th>\n",
       "      <th>SalePrice</th>\n",
       "    </tr>\n",
       "  </thead>\n",
       "  <tbody>\n",
       "    <tr>\n",
       "      <th>11</th>\n",
       "      <td>2324</td>\n",
       "      <td>345000</td>\n",
       "    </tr>\n",
       "    <tr>\n",
       "      <th>53</th>\n",
       "      <td>1842</td>\n",
       "      <td>385000</td>\n",
       "    </tr>\n",
       "    <tr>\n",
       "      <th>58</th>\n",
       "      <td>2945</td>\n",
       "      <td>438780</td>\n",
       "    </tr>\n",
       "    <tr>\n",
       "      <th>112</th>\n",
       "      <td>2696</td>\n",
       "      <td>383970</td>\n",
       "    </tr>\n",
       "    <tr>\n",
       "      <th>118</th>\n",
       "      <td>3222</td>\n",
       "      <td>320000</td>\n",
       "    </tr>\n",
       "    <tr>\n",
       "      <th>...</th>\n",
       "      <td>...</td>\n",
       "      <td>...</td>\n",
       "    </tr>\n",
       "    <tr>\n",
       "      <th>1353</th>\n",
       "      <td>3238</td>\n",
       "      <td>410000</td>\n",
       "    </tr>\n",
       "    <tr>\n",
       "      <th>1373</th>\n",
       "      <td>2633</td>\n",
       "      <td>466500</td>\n",
       "    </tr>\n",
       "    <tr>\n",
       "      <th>1386</th>\n",
       "      <td>2784</td>\n",
       "      <td>250000</td>\n",
       "    </tr>\n",
       "    <tr>\n",
       "      <th>1388</th>\n",
       "      <td>1746</td>\n",
       "      <td>377500</td>\n",
       "    </tr>\n",
       "    <tr>\n",
       "      <th>1437</th>\n",
       "      <td>1932</td>\n",
       "      <td>394617</td>\n",
       "    </tr>\n",
       "  </tbody>\n",
       "</table>\n",
       "<p>77 rows × 2 columns</p>\n",
       "</div>"
      ],
      "text/plain": [
       "      GrLivArea  SalePrice\n",
       "11         2324     345000\n",
       "53         1842     385000\n",
       "58         2945     438780\n",
       "112        2696     383970\n",
       "118        3222     320000\n",
       "...         ...        ...\n",
       "1353       3238     410000\n",
       "1373       2633     466500\n",
       "1386       2784     250000\n",
       "1388       1746     377500\n",
       "1437       1932     394617\n",
       "\n",
       "[77 rows x 2 columns]"
      ]
     },
     "execution_count": 19,
     "metadata": {},
     "output_type": "execute_result"
    }
   ],
   "source": [
    "outliers"
   ]
  },
  {
   "cell_type": "code",
   "execution_count": 20,
   "id": "b435e392",
   "metadata": {},
   "outputs": [
    {
     "data": {
      "text/plain": [
       "<AxesSubplot:xlabel='GrLivArea'>"
      ]
     },
     "execution_count": 20,
     "metadata": {},
     "output_type": "execute_result"
    },
    {
     "data": {
      "image/png": "[encoded data removed]",
      "text/plain": [
       "<Figure size 432x288 with 1 Axes>"
      ]
     },
     "metadata": {},
     "output_type": "display_data"
    }
   ],
   "source": [
    "sb.boxplot(data=df, x=\"GrLivArea\")"
   ]
  },
  {
   "cell_type": "code",
   "execution_count": 21,
   "id": "83f89523",
   "metadata": {},
   "outputs": [
    {
     "data": {
      "text/plain": [
       "<AxesSubplot:xlabel='SalePrice'>"
      ]
     },
     "execution_count": 21,
     "metadata": {},
     "output_type": "execute_result"
    },
    {
     "data": {
      "image/png": "[encoded data removed]",
      "text/plain": [
       "<Figure size 432x288 with 1 Axes>"
      ]
     },
     "metadata": {},
     "output_type": "display_data"
    }
   ],
   "source": [
    "sb.boxplot(data=df, x=\"SalePrice\")"
   ]
  },
  {
   "cell_type": "code",
   "execution_count": 22,
   "id": "25999666",
   "metadata": {},
   "outputs": [
    {
     "data": {
      "text/html": [
       "<div>\n",
       "<style scoped>\n",
       "    .dataframe tbody tr th:only-of-type {\n",
       "        vertical-align: middle;\n",
       "    }\n",
       "\n",
       "    .dataframe tbody tr th {\n",
       "        vertical-align: top;\n",
       "    }\n",
       "\n",
       "    .dataframe thead th {\n",
       "        text-align: right;\n",
       "    }\n",
       "</style>\n",
       "<table border=\"1\" class=\"dataframe\">\n",
       "  <thead>\n",
       "    <tr style=\"text-align: right;\">\n",
       "      <th></th>\n",
       "      <th>GrLivArea</th>\n",
       "      <th>SalePrice</th>\n",
       "    </tr>\n",
       "  </thead>\n",
       "  <tbody>\n",
       "    <tr>\n",
       "      <th>0</th>\n",
       "      <td>1710</td>\n",
       "      <td>208500</td>\n",
       "    </tr>\n",
       "    <tr>\n",
       "      <th>1</th>\n",
       "      <td>1262</td>\n",
       "      <td>181500</td>\n",
       "    </tr>\n",
       "    <tr>\n",
       "      <th>2</th>\n",
       "      <td>1786</td>\n",
       "      <td>223500</td>\n",
       "    </tr>\n",
       "    <tr>\n",
       "      <th>3</th>\n",
       "      <td>1717</td>\n",
       "      <td>140000</td>\n",
       "    </tr>\n",
       "    <tr>\n",
       "      <th>4</th>\n",
       "      <td>2198</td>\n",
       "      <td>250000</td>\n",
       "    </tr>\n",
       "    <tr>\n",
       "      <th>...</th>\n",
       "      <td>...</td>\n",
       "      <td>...</td>\n",
       "    </tr>\n",
       "    <tr>\n",
       "      <th>1455</th>\n",
       "      <td>1647</td>\n",
       "      <td>175000</td>\n",
       "    </tr>\n",
       "    <tr>\n",
       "      <th>1456</th>\n",
       "      <td>2073</td>\n",
       "      <td>210000</td>\n",
       "    </tr>\n",
       "    <tr>\n",
       "      <th>1457</th>\n",
       "      <td>2340</td>\n",
       "      <td>266500</td>\n",
       "    </tr>\n",
       "    <tr>\n",
       "      <th>1458</th>\n",
       "      <td>1078</td>\n",
       "      <td>142125</td>\n",
       "    </tr>\n",
       "    <tr>\n",
       "      <th>1459</th>\n",
       "      <td>1256</td>\n",
       "      <td>147500</td>\n",
       "    </tr>\n",
       "  </tbody>\n",
       "</table>\n",
       "<p>1383 rows × 2 columns</p>\n",
       "</div>"
      ],
      "text/plain": [
       "      GrLivArea  SalePrice\n",
       "0          1710     208500\n",
       "1          1262     181500\n",
       "2          1786     223500\n",
       "3          1717     140000\n",
       "4          2198     250000\n",
       "...         ...        ...\n",
       "1455       1647     175000\n",
       "1456       2073     210000\n",
       "1457       2340     266500\n",
       "1458       1078     142125\n",
       "1459       1256     147500\n",
       "\n",
       "[1383 rows x 2 columns]"
      ]
     },
     "execution_count": 22,
     "metadata": {},
     "output_type": "execute_result"
    }
   ],
   "source": [
    "cleandf = df.drop(outliersindex)\n",
    "cleandf = cleandf.loc[:,[\"GrLivArea\", \"SalePrice\"]]\n",
    "cleandf"
   ]
  },
  {
   "cell_type": "markdown",
   "id": "d7db48c1",
   "metadata": {},
   "source": [
    "## Problem 3b and 3C fitting regression model on train set"
   ]
  },
  {
   "cell_type": "code",
   "execution_count": 23,
   "id": "6527a7b3",
   "metadata": {},
   "outputs": [],
   "source": [
    "def salePriceRegressionPartC(variable,dframe):\n",
    "    X= pd.DataFrame(dframe[variable])   \n",
    "    Y = pd.DataFrame(dframe['SalePrice']) \n",
    "    X_train, X_test, Y_train, Y_test = train_test_split(X, Y, test_size = 0.2)\n",
    "    linreg = LinearRegression()\n",
    "    linreg.fit(X_train, Y_train)\n",
    "    print('Intercept of Regression \\t: b = ', linreg.intercept_)\n",
    "    print('Coefficients of Regression \\t: a = ', linreg.coef_)\n",
    "    print()\n",
    "    Y_train_pred = linreg.predict(X_train)\n",
    "    Y_test_pred = linreg.predict(X_test)\n",
    "    \n",
    "    # Plot the Linear Regression line\n",
    "    f = plt.figure(figsize=(16, 8))\n",
    "    plt.scatter(X_test, Y_test)\n",
    "    plt.scatter(X_test, Y_test_pred, color = \"r\")\n",
    "    plt.show()\n",
    "    \n",
    "    # Check the Goodness of Fit (on Train Data)\n",
    "    print(\"Goodness of Fit of Model \\tTrain Dataset\")\n",
    "    print(\"Explained Variance (R^2) \\t:\", linreg.score(X_train, Y_train))\n",
    "    print(\"Mean Squared Error (MSE) \\t:\", mean_squared_error(Y_train, Y_train_pred))\n",
    "    print(\"Root Mean Squared Error (RMSE) \\t:\", np.sqrt(mean_squared_error(Y_train, Y_train_pred)))\n",
    "    print()\n",
    "    \n",
    "    # Check the Goodness of Fit (on Test Data)\n",
    "    print(\"Goodness of Fit of Model \\tTest Dataset\")\n",
    "    print(\"Explained Variance (R^2) \\t:\", linreg.score(X_test, Y_test))\n",
    "    print(\"Mean Squared Error (MSE) \\t:\", mean_squared_error(Y_test, Y_test_pred))\n",
    "    print(\"Root Mean Squared Error (RMSE) \\t:\", np.sqrt(mean_squared_error(Y_test, Y_test_pred)))\n",
    "    print()\n"
   ]
  },
  {
   "cell_type": "code",
   "execution_count": 24,
   "id": "b7da0ab2",
   "metadata": {},
   "outputs": [
    {
     "name": "stdout",
     "output_type": "stream",
     "text": [
      "Intercept of Regression \t: b =  [36702.94020084]\n",
      "Coefficients of Regression \t: a =  [[90.75708252]]\n",
      "\n"
     ]
    },
    {
     "data": {
      "image/png": "[encoded data removed]",
      "text/plain": [
       "<Figure size 1152x576 with 1 Axes>"
      ]
     },
     "metadata": {},
     "output_type": "display_data"
    },
    {
     "name": "stdout",
     "output_type": "stream",
     "text": [
      "Goodness of Fit of Model \tTrain Dataset\n",
      "Explained Variance (R^2) \t: 0.4643858831035488\n",
      "Mean Squared Error (MSE) \t: 1828033000.8206167\n",
      "Root Mean Squared Error (RMSE) \t: 42755.50257944136\n",
      "\n",
      "Goodness of Fit of Model \tTest Dataset\n",
      "Explained Variance (R^2) \t: 0.5234338351333577\n",
      "Mean Squared Error (MSE) \t: 1693952962.7093854\n",
      "Root Mean Squared Error (RMSE) \t: 41157.65983033274\n",
      "\n"
     ]
    }
   ],
   "source": [
    "salePriceRegressionPartC(\"GrLivArea\",cleandf)"
   ]
  },
  {
   "cell_type": "markdown",
   "id": "fd783799",
   "metadata": {},
   "source": [
    "### I believe that the model using the cleaned dataframe is better as it has a higher prediction accuracy. Its mean squared error is 1693952962, which is lower than the uncleaned dataframe's 2991406236. Its goodness of fit is also slightly better as its explained variance is 0.523 while the explained variance of the uncleaned dataframe is 0.510"
   ]
  },
  {
   "cell_type": "code",
   "execution_count": null,
   "id": "6adb8b7e",
   "metadata": {},
   "outputs": [],
   "source": []
  }
 ],
 "metadata": {
  "kernelspec": {
   "display_name": "Python 3 (ipykernel)",
   "language": "python",
   "name": "python3"
  },
  "language_info": {
   "codemirror_mode": {
    "name": "ipython",
    "version": 3
   },
   "file_extension": ".py",
   "mimetype": "text/x-python",
   "name": "python",
   "nbconvert_exporter": "python",
   "pygments_lexer": "ipython3",
   "version": "3.8.13"
  }
 },
 "nbformat": 4,
 "nbformat_minor": 5
}
