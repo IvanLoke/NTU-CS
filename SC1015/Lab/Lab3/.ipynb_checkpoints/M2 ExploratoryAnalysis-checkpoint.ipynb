{
 "cells": [
  {
   "cell_type": "markdown",
   "metadata": {},
   "source": [
    "# Exploratory Data Analysis in Python\n",
    "\n",
    "Dataset from Kaggle : **\"Pokemon with stats\"** by *Alberto Barradas*  \n",
    "Source: https://www.kaggle.com/abcsds/pokemon (requires login)\n",
    "\n",
    "Inspired by the wonderful EDA on Pokemon Data by [Redwan Huq](http://inmachineswetrust.com/posts/exploring-pokemon-dataset/).\n",
    "\n",
    "![Gotta Catch 'Em All!](images/PokemonIntro.png)"
   ]
  },
  {
   "cell_type": "markdown",
   "metadata": {},
   "source": [
    "---\n",
    "\n",
    "### Essential Libraries\n",
    "\n",
    "Let us begin by importing the essential Python Libraries.\n",
    "\n",
    "> NumPy : Library for Numeric Computations in Python  \n",
    "> Pandas : Library for Data Acquisition and Preparation  \n",
    "> Matplotlib : Low-level library for Data Visualization  \n",
    "> Seaborn : Higher-level library for Data Visualization  "
   ]
  },
  {
   "cell_type": "code",
   "execution_count": 1,
   "metadata": {},
   "outputs": [],
   "source": [
    "# Basic Libraries\n",
    "import numpy as np\n",
    "import pandas as pd\n",
    "import seaborn as sb\n",
    "import matplotlib.pyplot as plt # we only need pyplot\n",
    "sb.set() # set the default Seaborn style for graphics"
   ]
  },
  {
   "cell_type": "markdown",
   "metadata": {},
   "source": [
    "---\n",
    "\n",
    "### Import the Dataset\n",
    "\n",
    "The dataset is in CSV format; hence we use the `read_csv` function from Pandas.  \n",
    "Immediately after importing, take a quick look at the data using the `head` function."
   ]
  },
  {
   "cell_type": "code",
   "execution_count": 2,
   "metadata": {},
   "outputs": [
    {
     "data": {
      "text/html": [
       "<div>\n",
       "<style scoped>\n",
       "    .dataframe tbody tr th:only-of-type {\n",
       "        vertical-align: middle;\n",
       "    }\n",
       "\n",
       "    .dataframe tbody tr th {\n",
       "        vertical-align: top;\n",
       "    }\n",
       "\n",
       "    .dataframe thead th {\n",
       "        text-align: right;\n",
       "    }\n",
       "</style>\n",
       "<table border=\"1\" class=\"dataframe\">\n",
       "  <thead>\n",
       "    <tr style=\"text-align: right;\">\n",
       "      <th></th>\n",
       "      <th>#</th>\n",
       "      <th>Name</th>\n",
       "      <th>Type 1</th>\n",
       "      <th>Type 2</th>\n",
       "      <th>Total</th>\n",
       "      <th>HP</th>\n",
       "      <th>Attack</th>\n",
       "      <th>Defense</th>\n",
       "      <th>Sp. Atk</th>\n",
       "      <th>Sp. Def</th>\n",
       "      <th>Speed</th>\n",
       "      <th>Generation</th>\n",
       "      <th>Legendary</th>\n",
       "    </tr>\n",
       "  </thead>\n",
       "  <tbody>\n",
       "    <tr>\n",
       "      <th>0</th>\n",
       "      <td>1</td>\n",
       "      <td>Bulbasaur</td>\n",
       "      <td>Grass</td>\n",
       "      <td>Poison</td>\n",
       "      <td>318</td>\n",
       "      <td>45</td>\n",
       "      <td>49</td>\n",
       "      <td>49</td>\n",
       "      <td>65</td>\n",
       "      <td>65</td>\n",
       "      <td>45</td>\n",
       "      <td>1</td>\n",
       "      <td>False</td>\n",
       "    </tr>\n",
       "    <tr>\n",
       "      <th>1</th>\n",
       "      <td>2</td>\n",
       "      <td>Ivysaur</td>\n",
       "      <td>Grass</td>\n",
       "      <td>Poison</td>\n",
       "      <td>405</td>\n",
       "      <td>60</td>\n",
       "      <td>62</td>\n",
       "      <td>63</td>\n",
       "      <td>80</td>\n",
       "      <td>80</td>\n",
       "      <td>60</td>\n",
       "      <td>1</td>\n",
       "      <td>False</td>\n",
       "    </tr>\n",
       "    <tr>\n",
       "      <th>2</th>\n",
       "      <td>3</td>\n",
       "      <td>Venusaur</td>\n",
       "      <td>Grass</td>\n",
       "      <td>Poison</td>\n",
       "      <td>525</td>\n",
       "      <td>80</td>\n",
       "      <td>82</td>\n",
       "      <td>83</td>\n",
       "      <td>100</td>\n",
       "      <td>100</td>\n",
       "      <td>80</td>\n",
       "      <td>1</td>\n",
       "      <td>False</td>\n",
       "    </tr>\n",
       "    <tr>\n",
       "      <th>3</th>\n",
       "      <td>3</td>\n",
       "      <td>VenusaurMega Venusaur</td>\n",
       "      <td>Grass</td>\n",
       "      <td>Poison</td>\n",
       "      <td>625</td>\n",
       "      <td>80</td>\n",
       "      <td>100</td>\n",
       "      <td>123</td>\n",
       "      <td>122</td>\n",
       "      <td>120</td>\n",
       "      <td>80</td>\n",
       "      <td>1</td>\n",
       "      <td>False</td>\n",
       "    </tr>\n",
       "    <tr>\n",
       "      <th>4</th>\n",
       "      <td>4</td>\n",
       "      <td>Charmander</td>\n",
       "      <td>Fire</td>\n",
       "      <td>NaN</td>\n",
       "      <td>309</td>\n",
       "      <td>39</td>\n",
       "      <td>52</td>\n",
       "      <td>43</td>\n",
       "      <td>60</td>\n",
       "      <td>50</td>\n",
       "      <td>65</td>\n",
       "      <td>1</td>\n",
       "      <td>False</td>\n",
       "    </tr>\n",
       "  </tbody>\n",
       "</table>\n",
       "</div>"
      ],
      "text/plain": [
       "   #                   Name Type 1  Type 2  Total  HP  Attack  Defense  \\\n",
       "0  1              Bulbasaur  Grass  Poison    318  45      49       49   \n",
       "1  2                Ivysaur  Grass  Poison    405  60      62       63   \n",
       "2  3               Venusaur  Grass  Poison    525  80      82       83   \n",
       "3  3  VenusaurMega Venusaur  Grass  Poison    625  80     100      123   \n",
       "4  4             Charmander   Fire     NaN    309  39      52       43   \n",
       "\n",
       "   Sp. Atk  Sp. Def  Speed  Generation  Legendary  \n",
       "0       65       65     45           1      False  \n",
       "1       80       80     60           1      False  \n",
       "2      100      100     80           1      False  \n",
       "3      122      120     80           1      False  \n",
       "4       60       50     65           1      False  "
      ]
     },
     "execution_count": 2,
     "metadata": {},
     "output_type": "execute_result"
    }
   ],
   "source": [
    "pkmndata = pd.read_csv('pokemonData.csv')\n",
    "pkmndata.head()"
   ]
  },
  {
   "cell_type": "markdown",
   "metadata": {},
   "source": [
    "Description of the dataset, as available on Kaggle, is as follows.\n",
    "Learn more : https://en.wikipedia.org/wiki/List_of_Pok%C3%A9mon\n",
    "\n",
    "> **\\#** : ID for each Pokemon (runs from 1 to 721)  \n",
    "> **Name** : Name of each Pokemon  \n",
    "> **Type 1** : Each Pokemon has a basic Type, this determines weakness/resistance to attacks  \n",
    "> **Type 2** : Some Pokemons are dual type and have a Type 2 value (set to nan otherwise)  \n",
    "> **Total** : Sum of all stats of a Pokemon, a general guide to how strong a Pokemon is  \n",
    "> **HP** : Hit Points, defines how much damage a Pokemon can withstand before fainting  \n",
    "> **Attack** : The base modifier for normal attacks by the Pokemon (e.g., scratch, punch etc.)  \n",
    "> **Defense** : The base damage resistance of the Pokemon against normal attacks  \n",
    "> **SP Atk** : Special Attack, the base modifier for special attacks (e.g. fire blast, bubble beam)  \n",
    "> **SP Def** : Special Defense, the base damage resistance against special attacks  \n",
    "> **Speed** : Determines which Pokemon attacks first each round  \n",
    "> **Generation** : Each Pokemon belongs to a certain Generation  \n",
    "> **Legendary** : Legendary Pokemons are powerful, rare, and hard to catch\n",
    "\n",
    "---\n",
    "\n",
    "Check the vital statistics of the dataset using the `type` and `shape` attributes."
   ]
  },
  {
   "cell_type": "code",
   "execution_count": null,
   "metadata": {},
   "outputs": [],
   "source": [
    "print(\"Data type : \", type(pkmndata))\n",
    "print(\"Data dims : \", pkmndata.shape)"
   ]
  },
  {
   "cell_type": "markdown",
   "metadata": {},
   "source": [
    "Check the variables (and their types) in the dataset using the `dtypes` attribute."
   ]
  },
  {
   "cell_type": "code",
   "execution_count": null,
   "metadata": {},
   "outputs": [],
   "source": [
    "print(pkmndata.dtypes)"
   ]
  },
  {
   "cell_type": "code",
   "execution_count": null,
   "metadata": {},
   "outputs": [],
   "source": []
  },
  {
   "cell_type": "markdown",
   "metadata": {},
   "source": [
    "---\n",
    "\n",
    "## Explore the Dataset\n",
    "\n",
    "Exploring any dataset requires a solid understanding of the domain -- it is Pokemon, in our case.    \n",
    "We understand the following basics regarding Pokemon, primarily from [Wikipedia](https://en.wikipedia.org/wiki/List_of_Pok%C3%A9mon) and [Bulbapedia](https://bulbapedia.bulbagarden.net/wiki/Generation).    \n",
    "\n",
    "> **Generation** : There are seven generations of Pokemon as of 2018, with 721 till Generation VI (this dataset).   \n",
    "> **Type** : Every Pokemon has a *primary* type, and some of them also have a *secondary* type -- dual-type ones.    \n",
    "> **Legendary** : These Pokemons are rare, powerful, and really hard to catch -- there are 38 upto Generation VI.    \n",
    "\n",
    "Way more trivia about Pokemon is available online -- but let's come back and retrieve more information from the data."
   ]
  },
  {
   "cell_type": "code",
   "execution_count": null,
   "metadata": {},
   "outputs": [],
   "source": [
    "# Information about the Variables\n",
    "pkmndata.info()"
   ]
  },
  {
   "cell_type": "markdown",
   "metadata": {},
   "source": [
    "#### Generations of Pokemon in the Dataset"
   ]
  },
  {
   "cell_type": "code",
   "execution_count": null,
   "metadata": {},
   "outputs": [],
   "source": [
    "# Generations in the Dataset\n",
    "print(\"Number of Generations :\", len(pkmndata[\"Generation\"].unique()))\n",
    "\n",
    "# Pokemons in each Generation\n",
    "print(pkmndata[\"Generation\"].value_counts())\n",
    "sb.catplot(y = \"Generation\", data = pkmndata, kind = \"count\")"
   ]
  },
  {
   "cell_type": "code",
   "execution_count": null,
   "metadata": {},
   "outputs": [],
   "source": []
  },
  {
   "cell_type": "markdown",
   "metadata": {},
   "source": [
    "#### Types of Pokemon in the Dataset\n",
    "\n",
    "![Types of Pokemon](images/PokemonTypes.png)\n",
    "\n",
    "We understand that there are 18 Sun and Moon types for Pokemons, as shown in the image above, and some have both the Sun and Moon types.   "
   ]
  },
  {
   "cell_type": "code",
   "execution_count": null,
   "metadata": {},
   "outputs": [],
   "source": [
    "# Primary Types in the Dataset\n",
    "print(\"Number of Primary Types :\", len(pkmndata[\"Type 1\"].unique()))\n",
    "\n",
    "# Pokemons of each Primary Type\n",
    "print(pkmndata[\"Type 1\"].value_counts())\n",
    "sb.catplot(y = \"Type 1\", data = pkmndata, kind = \"count\", height = 8)"
   ]
  },
  {
   "cell_type": "code",
   "execution_count": null,
   "metadata": {},
   "outputs": [],
   "source": [
    "# Secondary Types in the Dataset\n",
    "print(\"Number of Secondary Types :\", len(pkmndata[\"Type 2\"].dropna().unique()))\n",
    "\n",
    "# Pokemons of each Secondary Type\n",
    "print(pkmndata[\"Type 2\"].dropna().value_counts())\n",
    "sb.catplot(y = \"Type 2\", data = pkmndata, kind = \"count\", height = 8)"
   ]
  },
  {
   "cell_type": "code",
   "execution_count": null,
   "metadata": {},
   "outputs": [],
   "source": [
    "# Pokemons with a Single Type -- I\n",
    "singletype_data = pkmndata[pkmndata[\"Type 2\"].isnull()]\n",
    "print(\"Pokemons with just Type 1 :\", len(singletype_data))\n",
    "singletype_data.head()"
   ]
  },
  {
   "cell_type": "code",
   "execution_count": null,
   "metadata": {},
   "outputs": [],
   "source": [
    "# Pokemons with Dual Types -- I and II\n",
    "dualtype_data = pkmndata[pkmndata[\"Type 2\"].isnull() == False]\n",
    "print(\"Pokemons with Types 1 and 2 :\", len(dualtype_data))\n",
    "dualtype_data.head()"
   ]
  },
  {
   "cell_type": "markdown",
   "metadata": {},
   "source": [
    "#### Types of Pokemon over Generations"
   ]
  },
  {
   "cell_type": "code",
   "execution_count": null,
   "metadata": {},
   "outputs": [],
   "source": [
    "# Primary Type over Generations\n",
    "sb.catplot(y = 'Type 1', data = pkmndata, col = 'Generation', kind = 'count', col_wrap = 2, height = 8)"
   ]
  },
  {
   "cell_type": "code",
   "execution_count": null,
   "metadata": {},
   "outputs": [],
   "source": [
    "# Secondary Type over Generations\n",
    "sb.catplot(y = 'Type 2', data = pkmndata, col = 'Generation', kind = 'count', col_wrap = 2, height = 8)"
   ]
  },
  {
   "cell_type": "code",
   "execution_count": null,
   "metadata": {},
   "outputs": [],
   "source": []
  },
  {
   "cell_type": "markdown",
   "metadata": {},
   "source": [
    "#### Type distribution of Dual-Type Pokemons"
   ]
  },
  {
   "cell_type": "code",
   "execution_count": null,
   "metadata": {},
   "outputs": [],
   "source": [
    "# Pokemons with Dual Types -- I and II\n",
    "dualtype_data = pkmndata[pkmndata[\"Type 2\"].isnull() == False]\n",
    "print(\"Pokemons with Types 1 and 2 :\", len(dualtype_data))\n",
    "\n",
    "# Distribution of the Two Types\n",
    "f = plt.figure(figsize=(20, 20))\n",
    "sb.heatmap(dualtype_data.groupby(['Type 1', 'Type 2']).size().unstack(), \n",
    "           linewidths = 1, annot = True, annot_kws = {\"size\": 18}, cmap = \"BuGn\")"
   ]
  },
  {
   "cell_type": "code",
   "execution_count": null,
   "metadata": {},
   "outputs": [],
   "source": [
    "# Distribution of the Two Types over Generations\n",
    "f, axes = plt.subplots(3, 2, figsize=(20, 30))\n",
    "\n",
    "dualtype_gen1 = dualtype_data[dualtype_data[\"Generation\"] == 1]\n",
    "dualtype_gen2 = dualtype_data[dualtype_data[\"Generation\"] == 2]\n",
    "dualtype_gen3 = dualtype_data[dualtype_data[\"Generation\"] == 3]\n",
    "dualtype_gen4 = dualtype_data[dualtype_data[\"Generation\"] == 4]\n",
    "dualtype_gen5 = dualtype_data[dualtype_data[\"Generation\"] == 5]\n",
    "dualtype_gen6 = dualtype_data[dualtype_data[\"Generation\"] == 6]\n",
    "\n",
    "sb.heatmap(dualtype_gen1.groupby(['Type 1', 'Type 2']).size().unstack(),\n",
    "           linewidths = 1, annot = True, annot_kws = {\"size\": 14}, cmap = \"BuGn\", ax = axes[0,0])\n",
    "sb.heatmap(dualtype_gen2.groupby(['Type 1', 'Type 2']).size().unstack(), \n",
    "           linewidths = 1, annot = True, annot_kws = {\"size\": 14}, cmap = \"BuGn\", ax = axes[0,1])\n",
    "sb.heatmap(dualtype_gen3.groupby(['Type 1', 'Type 2']).size().unstack(), \n",
    "           linewidths = 1, annot = True, annot_kws = {\"size\": 14}, cmap = \"BuGn\", ax = axes[1,0])\n",
    "sb.heatmap(dualtype_gen4.groupby(['Type 1', 'Type 2']).size().unstack(), \n",
    "           linewidths = 1, annot = True, annot_kws = {\"size\": 14}, cmap = \"BuGn\", ax = axes[1,1])\n",
    "sb.heatmap(dualtype_gen5.groupby(['Type 1', 'Type 2']).size().unstack(), \n",
    "           linewidths = 1, annot = True, annot_kws = {\"size\": 14}, cmap = \"BuGn\", ax = axes[2,0])\n",
    "sb.heatmap(dualtype_gen6.groupby(['Type 1', 'Type 2']).size().unstack(), \n",
    "           linewidths = 1, annot = True, annot_kws = {\"size\": 14}, cmap = \"BuGn\", ax = axes[2,1])"
   ]
  },
  {
   "cell_type": "code",
   "execution_count": null,
   "metadata": {},
   "outputs": [],
   "source": []
  },
  {
   "cell_type": "markdown",
   "metadata": {},
   "source": [
    "#### Legendary Pokemons\n",
    "\n",
    "![Legendary Pokemons](images/PokemonLegendary.png)\n",
    "\n",
    "We understand that there are 65 Legendary Pokemons till Generation 6. Rare, powerful, interesting, and hard to catch. Let's explore them in the dataset."
   ]
  },
  {
   "cell_type": "code",
   "execution_count": null,
   "metadata": {},
   "outputs": [],
   "source": [
    "# Legendary Pokemons in the Dataset\n",
    "legnd_data = pkmndata[pkmndata[\"Legendary\"] == True]\n",
    "print(\"Number of Legendary Pokemons :\", len(legnd_data))\n",
    "\n",
    "# Legendary Pokemons in each Generation\n",
    "print(legnd_data[\"Generation\"].value_counts())\n",
    "sb.catplot(y = \"Generation\", data = legnd_data, kind = \"count\", height = 8)"
   ]
  },
  {
   "cell_type": "code",
   "execution_count": null,
   "metadata": {},
   "outputs": [],
   "source": [
    "# Legendary Pokemons in the Dataset\n",
    "legnd_data = pkmndata[pkmndata[\"Legendary\"] == True]\n",
    "print(\"Number of Legendary Pokemons :\", len(legnd_data))\n",
    "\n",
    "# Legendary Pokemons in each Primary Type\n",
    "print(legnd_data[\"Type 1\"].value_counts())\n",
    "sb.catplot(y = \"Type 1\", data = legnd_data, kind = \"count\", \n",
    "           order = legnd_data[\"Type 1\"].value_counts().index, height = 8)"
   ]
  },
  {
   "cell_type": "code",
   "execution_count": null,
   "metadata": {},
   "outputs": [],
   "source": [
    "# Legendary Pokemons with two Types -- I and II\n",
    "dualtype_legnd_data = legnd_data[legnd_data[\"Type 2\"].isnull() == False]\n",
    "print(\"Legendary Pokemons with Types 1 and 2 :\", len(dualtype_legnd_data))\n",
    "\n",
    "\n",
    "# Distribution over the Two Types\n",
    "f = plt.figure(figsize=(20, 20))\n",
    "sb.heatmap(dualtype_legnd_data.groupby(['Type 1', 'Type 2']).size().unstack(), \n",
    "           linewidths = 1, annot = True, annot_kws = {\"size\": 18}, cmap = \"BuGn\")"
   ]
  },
  {
   "cell_type": "code",
   "execution_count": null,
   "metadata": {},
   "outputs": [],
   "source": []
  },
  {
   "cell_type": "markdown",
   "metadata": {},
   "source": [
    "#### Statistical Summary of Pokemon Points"
   ]
  },
  {
   "cell_type": "code",
   "execution_count": null,
   "metadata": {},
   "outputs": [],
   "source": [
    "# Extract only the numeric data variables\n",
    "numeric_data = pd.DataFrame(pkmndata[[\"HP\", \"Attack\", \"Defense\", \"Sp. Atk\", \"Sp. Def\", \"Speed\"]])\n",
    "\n",
    "# Summary Statistics for all Variables\n",
    "numeric_data.describe().round(2)"
   ]
  },
  {
   "cell_type": "code",
   "execution_count": null,
   "metadata": {},
   "outputs": [],
   "source": [
    "# Draw the distributions of all variables\n",
    "f, axes = plt.subplots(6, 3, figsize=(18, 24))\n",
    "\n",
    "count = 0\n",
    "for var in numeric_data:\n",
    "    sb.boxplot(data = numeric_data[var], orient = \"h\", ax = axes[count,0])\n",
    "    sb.histplot(data = numeric_data[var], ax = axes[count,1])\n",
    "    sb.violinplot(data = numeric_data[var], orient = \"h\", ax = axes[count,2])\n",
    "    count += 1"
   ]
  },
  {
   "cell_type": "code",
   "execution_count": null,
   "metadata": {},
   "outputs": [],
   "source": [
    "# Correlation Matrix\n",
    "print(numeric_data.corr())\n",
    "\n",
    "# Heatmap of the Correlation Matrix\n",
    "f = plt.figure(figsize=(20, 20))\n",
    "sb.heatmap(numeric_data.corr(), vmin = -1, vmax = 1, linewidths = 1,\n",
    "           annot = True, fmt = \".2f\", annot_kws = {\"size\": 18}, cmap = \"RdBu\")"
   ]
  },
  {
   "cell_type": "code",
   "execution_count": null,
   "metadata": {},
   "outputs": [],
   "source": [
    "# Draw pairs of variables against one another\n",
    "sb.pairplot(data = numeric_data)"
   ]
  },
  {
   "cell_type": "code",
   "execution_count": null,
   "metadata": {},
   "outputs": [],
   "source": []
  },
  {
   "cell_type": "markdown",
   "metadata": {},
   "source": [
    "#### Unique Names and IDs of Pokemons"
   ]
  },
  {
   "cell_type": "code",
   "execution_count": null,
   "metadata": {},
   "outputs": [],
   "source": [
    "# Names of Pokemon in the Dataset\n",
    "print(\"Unique Names of Pokemon :\", len(pkmndata[\"Name\"].unique()))"
   ]
  },
  {
   "cell_type": "code",
   "execution_count": null,
   "metadata": {},
   "outputs": [],
   "source": [
    "# IDs of Pokemon in the Dataset\n",
    "print(\"Unique IDs of Pokemon :\", len(pkmndata[\"#\"].unique()))"
   ]
  },
  {
   "cell_type": "code",
   "execution_count": null,
   "metadata": {},
   "outputs": [],
   "source": [
    "# Pokemons with Duplicate IDs\n",
    "dupid_data = pkmndata[pkmndata.duplicated(\"#\", keep = False)]\n",
    "dupid_data.sort_values(by = \"Name\").head(n = 10)"
   ]
  },
  {
   "cell_type": "code",
   "execution_count": null,
   "metadata": {},
   "outputs": [],
   "source": [
    "# Pokemons with Duplicate IDs\n",
    "print(\"Pokemons with Duplicate IDs :\", len(dupid_data))\n",
    "dupids = dupid_data[\"#\"].unique()\n",
    "print(\"Unique Pokemons with DupIDs :\", len(dupids))\n",
    "print()\n",
    "\n",
    "# Group Pokemons with same ID\n",
    "print(\"# \\t Count \\t List of Pokemons with Duplicate IDs\")\n",
    "print()\n",
    "for dupid in dupids:\n",
    "    dupid_list = list(dupid_data[dupid_data[\"#\"] == dupid][\"Name\"])\n",
    "    print(dupid, \"\\t\", len(dupid_list), \"\\t\", dupid_list)"
   ]
  },
  {
   "cell_type": "code",
   "execution_count": null,
   "metadata": {},
   "outputs": [],
   "source": []
  },
  {
   "cell_type": "markdown",
   "metadata": {},
   "source": [
    "---\n",
    "\n",
    "## Clean the Dataset\n",
    "\n",
    "Once we are done with the basic exploration of variables, it's time to *clean* and *tidy-up* the dataset."
   ]
  },
  {
   "cell_type": "code",
   "execution_count": null,
   "metadata": {},
   "outputs": [],
   "source": [
    "# Create a copy of the Dataset\n",
    "pkmndata_clean = pkmndata.copy()\n",
    "\n",
    "# Rename \"#\" to \"ID\" of Pokemon\n",
    "pkmndata_clean.rename(columns = {'#': 'ID'}, inplace = True)\n",
    "\n",
    "# Convert all Variable Names to UPPERCASE\n",
    "pkmndata_clean.columns = pkmndata_clean.columns.str.upper()\n",
    "\n",
    "# Remove all spaces and dots from Variable Names\n",
    "pkmndata_clean.columns = pkmndata_clean.columns.str.replace(\".\",\"\")\n",
    "pkmndata_clean.columns = pkmndata_clean.columns.str.replace(\" \",\"_\")\n",
    "\n",
    "# Print the Variable Information to check\n",
    "pkmndata_clean.info()"
   ]
  },
  {
   "cell_type": "markdown",
   "metadata": {},
   "source": [
    "#### Fix Pokemon Names\n",
    "\n",
    "We take cue from the Pokedex dataset (https://pokemondb.net/pokedex/all), and perform the following (not in order).   \n",
    "\n",
    "> Convert `[Name]Mega [Name]` to `[Name]Mega`    \n",
    "> Convert `[Name]Mega [Name] X` to `[Name]MegaX`    \n",
    "> Convert `[Name]Mega [Name] Y` to `[Name]MegaY`    \n",
    "> Convert `[Name][Form] Forme` to `[Name][Form]`    \n",
    "> Convert `[Name][Cloak] Cloak` to `[Name][Cloak]`    \n",
    "> Convert `[Name][Rotom] Rotom` to `[Name][Rotom]`    \n",
    "> Convert `[Name][Size] Size` to `[Name][Size]`    \n",
    "> Convert `HoopaHoopa [Form]` to `Hoopa[Form]`     \n",
    "\n",
    "Regular Expression (RegEx) search-and-replace is a lovely tool to accomplish such tasks. We use `re` library in Python."
   ]
  },
  {
   "cell_type": "code",
   "execution_count": null,
   "metadata": {},
   "outputs": [],
   "source": [
    "# Fix the weird Names of Pokemons\n",
    "import re\n",
    "\n",
    "# Fix names with extra Extensions\n",
    "pkmndata_clean[\"NAME\"] = pkmndata_clean[\"NAME\"].apply(lambda x: re.sub(r'(.+)(Forme)',r'\\1', x))\n",
    "pkmndata_clean[\"NAME\"] = pkmndata_clean[\"NAME\"].apply(lambda x: re.sub(r'(.+)(Cloak)',r'\\1', x))\n",
    "pkmndata_clean[\"NAME\"] = pkmndata_clean[\"NAME\"].apply(lambda x: re.sub(r'(.+)(Rotom)',r'\\1', x))\n",
    "pkmndata_clean[\"NAME\"] = pkmndata_clean[\"NAME\"].apply(lambda x: re.sub(r'(.+)(Size)',r'\\1', x))\n",
    "pkmndata_clean[\"NAME\"] = pkmndata_clean[\"NAME\"].apply(lambda x: re.sub(r'(Hoopa)(.+)',r'\\2', x))\n",
    "\n",
    "# Fix names with Mega in between\n",
    "pkmndata_clean[\"NAME\"] = pkmndata_clean[\"NAME\"].apply(lambda x: re.sub(r'(.+Mega)(.+)',r'\\1', x))\n",
    "\n",
    "# Remove Blanks from all the Names\n",
    "pkmndata_clean[\"NAME\"] = pkmndata_clean[\"NAME\"].apply(lambda x: re.sub(r'\\s+','', x))"
   ]
  },
  {
   "cell_type": "code",
   "execution_count": null,
   "metadata": {},
   "outputs": [],
   "source": [
    "# Pokemons with Duplicate IDs\n",
    "dupid_data_clean = pkmndata_clean[pkmndata_clean.duplicated(\"ID\", keep = False)]\n",
    "print(\"Pokemons with Duplicate IDs :\", len(dupid_data_clean))\n",
    "dupids_clean = dupid_data_clean[\"ID\"].unique()\n",
    "print(\"Unique Pokemons with DupIDs :\", len(dupids_clean))\n",
    "print()\n",
    "\n",
    "# Group Pokemons with same ID\n",
    "print(\"# \\t Count \\t List of Pokemons with Duplicate IDs\")\n",
    "print()\n",
    "for dupid_clean in dupids_clean:\n",
    "    dupid_list_clean = list(dupid_data_clean[dupid_data_clean[\"ID\"] == dupid_clean][\"NAME\"])\n",
    "    print(dupid_clean, \"\\t\", len(dupid_list_clean), \"\\t\", dupid_list_clean)"
   ]
  },
  {
   "cell_type": "code",
   "execution_count": null,
   "metadata": {},
   "outputs": [],
   "source": [
    "# X,Y labels missing for Charizard (6) and Mewtwo (150)\n",
    "print(pkmndata_clean[pkmndata_clean[\"ID\"] == 6][\"NAME\"])\n",
    "print(pkmndata_clean[pkmndata_clean[\"ID\"] == 150][\"NAME\"])"
   ]
  },
  {
   "cell_type": "code",
   "execution_count": null,
   "metadata": {},
   "outputs": [],
   "source": [
    "# Fix the X,Y labels for Charizard and Mewtwo\n",
    "pkmndata_clean.loc[7,\"NAME\"] = \"CharizardMegaX\"\n",
    "pkmndata_clean.loc[8,\"NAME\"] = \"CharizardMegaY\"\n",
    "pkmndata_clean.loc[163,\"NAME\"] = \"MewtwoMegaX\"\n",
    "pkmndata_clean.loc[164,\"NAME\"] = \"MewtwoMegaY\""
   ]
  },
  {
   "cell_type": "code",
   "execution_count": null,
   "metadata": {},
   "outputs": [],
   "source": [
    "# Set NAME as the Index of the DataFrame\n",
    "pkmndata_clean = pkmndata_clean.set_index('NAME')\n",
    "\n",
    "# Print the DataFrame to check\n",
    "pkmndata_clean.sample(n = 10)"
   ]
  },
  {
   "cell_type": "code",
   "execution_count": null,
   "metadata": {},
   "outputs": [],
   "source": [
    "# Check the Variable Information\n",
    "pkmndata_clean.info()"
   ]
  },
  {
   "cell_type": "markdown",
   "metadata": {},
   "source": [
    "#### Tackle the Missing Values\n",
    "\n",
    "Note that `TYPE_2` has only 414 values, instead of the overall 800. Let's fill-in the missing values with the string `NoType` for clarity about single/dual types.     \n",
    "\n",
    "\n",
    "Missing values are generally represented as `NaN` in numeric arrays, `None` or `NaN` in object arrays, `NaT` in datetime. In certain cases, the missing values may mean the data is not available or not required (as in here). But it may also be errors from data acquisition or data processing. We should check for that."
   ]
  },
  {
   "cell_type": "code",
   "execution_count": null,
   "metadata": {},
   "outputs": [],
   "source": [
    "# Check missing values in data\n",
    "pkmndata_clean.isnull().sum()"
   ]
  },
  {
   "cell_type": "code",
   "execution_count": null,
   "metadata": {},
   "outputs": [],
   "source": [
    "# Fill missing values in data\n",
    "pkmndata_clean[\"TYPE_2\"].fillna(value = \"NoType\", inplace = True)"
   ]
  },
  {
   "cell_type": "code",
   "execution_count": null,
   "metadata": {},
   "outputs": [],
   "source": [
    "# Check the Clean Dataset\n",
    "pkmndata_clean.info()"
   ]
  },
  {
   "cell_type": "code",
   "execution_count": null,
   "metadata": {},
   "outputs": [],
   "source": [
    "# Check the Variable Information\n",
    "print(pkmndata_clean[\"TYPE_2\"].dropna().value_counts())"
   ]
  },
  {
   "cell_type": "code",
   "execution_count": null,
   "metadata": {},
   "outputs": [],
   "source": []
  },
  {
   "cell_type": "markdown",
   "metadata": {},
   "source": [
    "---\n",
    "\n",
    "## Pokemons worth Exploring\n",
    "\n",
    "![My Favorites](images/PokemonMyFabs.png)\n",
    "\n",
    "Of course, we all have our favourite Pokemons -- mine are Pikachu, Jigglypuff, Togepi, Bulbasaur and Snorlax -- as you can tell from the image above.    "
   ]
  },
  {
   "cell_type": "code",
   "execution_count": null,
   "metadata": {},
   "outputs": [],
   "source": [
    "# My Favorites (entirely based on cuteness index, and not on their power)\n",
    "pkmndata_clean.loc[[\"Pikachu\", \"Jigglypuff\", \"Togepi\", \"Bulbasaur\", \"Snorlax\"]]"
   ]
  },
  {
   "cell_type": "markdown",
   "metadata": {},
   "source": [
    "However, there are some other Pokemons worth exploring -- especially the strongest and the weakest Pokemons, may be for each type and generation.\n",
    "\n",
    "#### Strongest and Weakest Pokemons"
   ]
  },
  {
   "cell_type": "code",
   "execution_count": null,
   "metadata": {},
   "outputs": [],
   "source": [
    "# Strongest Pokemons -- the Top 10\n",
    "pkmndata_clean.sort_values('TOTAL', ascending=False).head(10)"
   ]
  },
  {
   "cell_type": "code",
   "execution_count": null,
   "metadata": {},
   "outputs": [],
   "source": [
    "# Weakest Pokemons -- the Bottom 10\n",
    "pkmndata_clean.sort_values('TOTAL', ascending=True).head(10)"
   ]
  },
  {
   "cell_type": "markdown",
   "metadata": {},
   "source": [
    "#### Strongest and Weakest Pokemons -- Legendary and Non-Legendary"
   ]
  },
  {
   "cell_type": "code",
   "execution_count": null,
   "metadata": {},
   "outputs": [],
   "source": [
    "# Strongest Legendary Pokemons -- the Top 10\n",
    "pkmndata_clean[pkmndata_clean[\"LEGENDARY\"] == True].sort_values('TOTAL', ascending=False).head(10)"
   ]
  },
  {
   "cell_type": "code",
   "execution_count": null,
   "metadata": {},
   "outputs": [],
   "source": [
    "# Weakest Legendary Pokemons -- the Bottom 10\n",
    "pkmndata_clean[pkmndata_clean[\"LEGENDARY\"] == True].sort_values('TOTAL', ascending=True).head(10)"
   ]
  },
  {
   "cell_type": "code",
   "execution_count": null,
   "metadata": {},
   "outputs": [],
   "source": [
    "# Strongest Non-Legendary Pokemons -- the Top 10\n",
    "pkmndata_clean[pkmndata_clean[\"LEGENDARY\"] == False].sort_values('TOTAL', ascending=False).head(10)"
   ]
  },
  {
   "cell_type": "code",
   "execution_count": null,
   "metadata": {},
   "outputs": [],
   "source": [
    "# Weakest Non-Legendary Pokemons -- the Bottom 10\n",
    "pkmndata_clean[pkmndata_clean[\"LEGENDARY\"] == False].sort_values('TOTAL', ascending=True).head(10)"
   ]
  },
  {
   "cell_type": "markdown",
   "metadata": {},
   "source": [
    "#### Strongest and Weakest Pokemons -- Across Generations"
   ]
  },
  {
   "cell_type": "code",
   "execution_count": null,
   "metadata": {},
   "outputs": [],
   "source": [
    "# Strongest Pokemons in each Generation -- the Top 10\n",
    "generation = 1\n",
    "pkmndata_clean[pkmndata_clean[\"GENERATION\"] == generation].sort_values('TOTAL', ascending=False).head(10)"
   ]
  },
  {
   "cell_type": "code",
   "execution_count": null,
   "metadata": {},
   "outputs": [],
   "source": [
    "# Weakest Pokemons in each Generation -- the Bottom 10\n",
    "generation = 1\n",
    "pkmndata_clean[pkmndata_clean[\"GENERATION\"] == generation].sort_values('TOTAL', ascending=True).head(10)"
   ]
  },
  {
   "cell_type": "code",
   "execution_count": null,
   "metadata": {},
   "outputs": [],
   "source": []
  },
  {
   "cell_type": "markdown",
   "metadata": {},
   "source": [
    "#### Strength of Pokemons over various Types"
   ]
  },
  {
   "cell_type": "code",
   "execution_count": null,
   "metadata": {},
   "outputs": [],
   "source": [
    "# Compute the Average TOTAL across every pair of TYPEs\n",
    "total_means = pkmndata_clean.groupby(['TYPE_1', 'TYPE_2']).mean().loc[:, 'TOTAL']\n",
    "\n",
    "# Strongest Pokemons in each Pair of Types -- the Top 10\n",
    "print(total_means.reset_index().sort_values('TOTAL', ascending=False).head(10).round(2))\n",
    "\n",
    "# Heatmap of Average TOTAL across every pair of TYPEs\n",
    "f = plt.figure(figsize=(20, 20))\n",
    "sb.heatmap(total_means.unstack(), linewidths = 1,\n",
    "           annot = True, fmt = \".0f\", annot_kws = {\"size\": 18}, cmap = \"BuGn\")"
   ]
  },
  {
   "cell_type": "markdown",
   "metadata": {},
   "source": [
    "#### Strength of Legendary Pokemons over various Types"
   ]
  },
  {
   "cell_type": "code",
   "execution_count": null,
   "metadata": {},
   "outputs": [],
   "source": [
    "# Compute the Average TOTAL across every pair of TYPEs\n",
    "total_means = pkmndata_clean[pkmndata_clean[\"LEGENDARY\"] == True].groupby(['TYPE_1', 'TYPE_2']).mean().loc[:, 'TOTAL']\n",
    "\n",
    "# Strongest Pokemons in each Pair of Types -- the Top 10\n",
    "print(total_means.reset_index().sort_values('TOTAL', ascending=False).head(10).round(2))\n",
    "\n",
    "# Heatmap of Average TOTAL across every pair of TYPEs\n",
    "f = plt.figure(figsize=(20, 20))\n",
    "sb.heatmap(total_means.unstack(), linewidths = 1,\n",
    "           annot = True, fmt = \".0f\", annot_kws = {\"size\": 18}, cmap = \"BuGn\")"
   ]
  },
  {
   "cell_type": "code",
   "execution_count": null,
   "metadata": {},
   "outputs": [],
   "source": []
  },
  {
   "cell_type": "code",
   "execution_count": null,
   "metadata": {},
   "outputs": [],
   "source": []
  }
 ],
 "metadata": {
  "kernelspec": {
   "display_name": "Python 3 (ipykernel)",
   "language": "python",
   "name": "python3"
  },
  "language_info": {
   "codemirror_mode": {
    "name": "ipython",
    "version": 3
   },
   "file_extension": ".py",
   "mimetype": "text/x-python",
   "name": "python",
   "nbconvert_exporter": "python",
   "pygments_lexer": "ipython3",
   "version": "3.8.13"
  }
 },
 "nbformat": 4,
 "nbformat_minor": 2
}
